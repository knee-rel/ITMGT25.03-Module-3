{
 "cells": [
  {
   "cell_type": "markdown",
   "id": "966ec19a",
   "metadata": {},
   "source": [
    "## Exercises for Control Flow"
   ]
  },
  {
   "cell_type": "markdown",
   "id": "fd33ddd0",
   "metadata": {},
   "source": [
    "Write a Python program that uses a while loop to calculate the sum of the first 10 positive integers and prints the result."
   ]
  },
  {
   "cell_type": "code",
   "execution_count": null,
   "id": "47afa995",
   "metadata": {},
   "outputs": [],
   "source": []
  },
  {
   "cell_type": "markdown",
   "id": "bf9f8273",
   "metadata": {},
   "source": [
    "Number 2\n",
    "\n",
    "1. The code prompts the user to enter two floating-point numbers, `score_a` and `score_b`, as input.\n",
    "\n",
    "2. The input for `score_a` and `score_b` should be provided in a decimal format, such as \"4.5\" or \"-2.75\".\n",
    "\n",
    "3. The code compares the values of `score_a` and `score_b` using the greater-than (`>`) operator.\n",
    "\n",
    "4. If `score_a` is greater than `score_b`, the code prints the string `'True'`. Otherwise, if `score_a` is less than or equal to `score_b`, the code prints the string `'False'`.\n",
    "\n",
    "5. The code assumes that the user will provide valid input, specifically floating-point numbers, and does not include error handling for invalid input.\n",
    "\n",
    "6. The code does not perform any additional operations or calculations with the scores. It solely focuses on comparing the values and printing the result."
   ]
  },
  {
   "cell_type": "code",
   "execution_count": null,
   "id": "f99d8490",
   "metadata": {},
   "outputs": [],
   "source": []
  },
  {
   "cell_type": "markdown",
   "id": "b2ce1474",
   "metadata": {},
   "source": [
    "Number 3\n",
    "\n",
    "1. The code uses a loop to iterate over a range of numbers from 0 to 99 (inclusive). The loop variable is named `num`, but it is not used within the loop.\n",
    "\n",
    "2. Inside the loop, the code prompts the user to enter an integer as input for the variable `grade`.\n",
    "\n",
    "3. The input for `grade` should be a whole number without a decimal component, such as \"75\" or \"-3\".\n",
    "\n",
    "4. The code uses a series of conditional statements (`if`, `elif`, and `else`) to determine the grade based on the value of `grade`.\n",
    "\n",
    "5. If `grade` falls within the range 92-100 (inclusive), the code prints the string `'A'`.\n",
    "\n",
    "6. If `grade` falls within the range 87-91 (inclusive), the code prints the string `'B+'`.\n",
    "\n",
    "7. If `grade` falls within the range 83-86 (inclusive), the code prints the string `'B'`.\n",
    "\n",
    "8. If `grade` falls within the range 79-82 (inclusive), the code prints the string `'C+'`.\n",
    "\n",
    "9. If `grade` falls within the range 75-78 (inclusive), the code prints the string `'C'`.\n",
    "\n",
    "10. If `grade` falls within the range 70-74 (inclusive), the code prints the string `'D'`.\n",
    "\n",
    "11. If `grade` is equal to -1, the code breaks out of the loop and stops further iterations.\n",
    "\n",
    "12. If `grade` does not fall into any of the specified ranges or the value is not -1, the code prints the string `'F'`.\n",
    "\n",
    "13. The code assumes that the user will provide valid input, specifically integer values, and does not include error handling for invalid input.\n",
    "\n",
    "14. The loop iterates 100 times, starting from 0 and ending at 99, unless a `break` statement is encountered."
   ]
  },
  {
   "cell_type": "code",
   "execution_count": null,
   "id": "5409055b",
   "metadata": {},
   "outputs": [],
   "source": [
    "#solve here\n",
    "for num in range(0, 100):\n",
    "    grade = int(input())\n",
    "    if 92 <= grade <= 100:\n",
    "        print('A')\n",
    "\n",
    "    elif 87 <= grade <= 91:\n",
    "        print('B+')\n",
    "\n",
    "    elif 83 <= grade <= 86:\n",
    "        print('B')\n",
    "\n",
    "    elif 79 <= grade <= 82:\n",
    "        print('C+')\n",
    "\n",
    "    elif 75 <= grade <= 78:\n",
    "        print('C')\n",
    "\n",
    "    elif 70 <= grade <= 74:\n",
    "        print('D')\n",
    "    \n",
    "    elif grade == -1:\n",
    "        break\n",
    "\n",
    "    else:\n",
    "        print('F')"
   ]
  },
  {
   "cell_type": "markdown",
   "id": "1dab2b37",
   "metadata": {},
   "source": [
    "Number 4\n",
    "\n",
    "1. The code initializes a variable named `total` to 0.\n",
    "\n",
    "2. The code uses a loop to iterate over a range of numbers from -100 to 99 (inclusive). The loop variable is named `n`, but it is not used within the loop.\n",
    "\n",
    "3. Inside the loop, the code prompts the user to enter an integer as input for the variable `num`.\n",
    "\n",
    "4. The input for `num` should be a whole number without a decimal component, such as \"75\" or \"-3\".\n",
    "\n",
    "5. The code checks if `num` falls within the range -100 to 100 (inclusive).\n",
    "\n",
    "6. If `num` is within the specified range, the code adds the value of `num` to the current value of `total`.\n",
    "\n",
    "7. If `num` is not within the range -100 to 100, the code breaks out of the loop and stops further iterations.\n",
    "\n",
    "8. After the loop finishes executing, the code prints the final value of `total`.\n",
    "\n",
    "9. The code assumes that the user will provide valid input, specifically integer values, and does not include error handling for invalid input.\n",
    "\n",
    "10. The loop iterates 201 times, starting from -100 and ending at 100, unless a `break` statement is encountered."
   ]
  },
  {
   "cell_type": "code",
   "execution_count": null,
   "id": "47b60b40",
   "metadata": {},
   "outputs": [],
   "source": []
  },
  {
   "cell_type": "markdown",
   "id": "71fdbfd7",
   "metadata": {},
   "source": [
    "Number 5\n",
    "\n",
    "Write a Python program that uses a while loop to print the first 5 multiples of a given number."
   ]
  },
  {
   "cell_type": "code",
   "execution_count": null,
   "id": "7bbf618c",
   "metadata": {},
   "outputs": [],
   "source": []
  },
  {
   "cell_type": "markdown",
   "id": "48006edd",
   "metadata": {},
   "source": [
    "Number 6\n",
    "\n",
    "Write a Python program that uses a while loop to find the smallest positive integer n such that the sum of the digits of n is equal to 10."
   ]
  },
  {
   "cell_type": "code",
   "execution_count": null,
   "id": "cd8334e0",
   "metadata": {},
   "outputs": [],
   "source": []
  }
 ],
 "metadata": {
  "kernelspec": {
   "display_name": "Python 3 (ipykernel)",
   "language": "python",
   "name": "python3"
  },
  "language_info": {
   "codemirror_mode": {
    "name": "ipython",
    "version": 3
   },
   "file_extension": ".py",
   "mimetype": "text/x-python",
   "name": "python",
   "nbconvert_exporter": "python",
   "pygments_lexer": "ipython3",
   "version": "3.9.13"
  }
 },
 "nbformat": 4,
 "nbformat_minor": 5
}
